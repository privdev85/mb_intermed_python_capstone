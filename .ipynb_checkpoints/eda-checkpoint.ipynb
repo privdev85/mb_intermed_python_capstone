{
 "cells": [
  {
   "cell_type": "markdown",
   "id": "df5b6990-2619-4894-bfb1-5badeb47b8ac",
   "metadata": {},
   "source": [
    "# Next step --> RUN all tests for Task 2 "
   ]
  },
  {
   "cell_type": "code",
   "execution_count": 1,
   "id": "b3c2d685-ff4e-403b-99c1-4896ed1f64ed",
   "metadata": {},
   "outputs": [
    {
     "data": {
      "application/javascript": [
       "\n",
       "            setTimeout(function() {\n",
       "                var nbb_cell_id = 1;\n",
       "                var nbb_unformatted_code = \"%load_ext nb_black\";\n",
       "                var nbb_formatted_code = \"%load_ext nb_black\";\n",
       "                var nbb_cells = Jupyter.notebook.get_cells();\n",
       "                for (var i = 0; i < nbb_cells.length; ++i) {\n",
       "                    if (nbb_cells[i].input_prompt_number == nbb_cell_id) {\n",
       "                        if (nbb_cells[i].get_text() == nbb_unformatted_code) {\n",
       "                             nbb_cells[i].set_text(nbb_formatted_code);\n",
       "                        }\n",
       "                        break;\n",
       "                    }\n",
       "                }\n",
       "            }, 500);\n",
       "            "
      ],
      "text/plain": [
       "<IPython.core.display.Javascript object>"
      ]
     },
     "metadata": {},
     "output_type": "display_data"
    }
   ],
   "source": [
    "%load_ext nb_black"
   ]
  },
  {
   "cell_type": "code",
   "execution_count": 2,
   "id": "ef7d14a6-6cf7-4679-b5cf-4e21ddb562d0",
   "metadata": {},
   "outputs": [
    {
     "data": {
      "application/javascript": [
       "\n",
       "            setTimeout(function() {\n",
       "                var nbb_cell_id = 2;\n",
       "                var nbb_unformatted_code = \"from pathlib import Path\\nd = Path().resolve().parent\";\n",
       "                var nbb_formatted_code = \"from pathlib import Path\\n\\nd = Path().resolve().parent\";\n",
       "                var nbb_cells = Jupyter.notebook.get_cells();\n",
       "                for (var i = 0; i < nbb_cells.length; ++i) {\n",
       "                    if (nbb_cells[i].input_prompt_number == nbb_cell_id) {\n",
       "                        if (nbb_cells[i].get_text() == nbb_unformatted_code) {\n",
       "                             nbb_cells[i].set_text(nbb_formatted_code);\n",
       "                        }\n",
       "                        break;\n",
       "                    }\n",
       "                }\n",
       "            }, 500);\n",
       "            "
      ],
      "text/plain": [
       "<IPython.core.display.Javascript object>"
      ]
     },
     "metadata": {},
     "output_type": "display_data"
    }
   ],
   "source": [
    "from pathlib import Path\n",
    "d = Path().resolve().parent"
   ]
  },
  {
   "cell_type": "markdown",
   "id": "5eadc8d5-8941-4701-8b4a-012e38dfbd44",
   "metadata": {},
   "source": [
    "# Next to do "
   ]
  },
  {
   "cell_type": "code",
   "execution_count": 3,
   "id": "df2046ed-844e-41cd-968f-711ba112fd4a",
   "metadata": {},
   "outputs": [
    {
     "data": {
      "application/javascript": [
       "\n",
       "            setTimeout(function() {\n",
       "                var nbb_cell_id = 3;\n",
       "                var nbb_unformatted_code = \"import extract\";\n",
       "                var nbb_formatted_code = \"import extract\";\n",
       "                var nbb_cells = Jupyter.notebook.get_cells();\n",
       "                for (var i = 0; i < nbb_cells.length; ++i) {\n",
       "                    if (nbb_cells[i].input_prompt_number == nbb_cell_id) {\n",
       "                        if (nbb_cells[i].get_text() == nbb_unformatted_code) {\n",
       "                             nbb_cells[i].set_text(nbb_formatted_code);\n",
       "                        }\n",
       "                        break;\n",
       "                    }\n",
       "                }\n",
       "            }, 500);\n",
       "            "
      ],
      "text/plain": [
       "<IPython.core.display.Javascript object>"
      ]
     },
     "metadata": {},
     "output_type": "display_data"
    }
   ],
   "source": [
    "import extract"
   ]
  },
  {
   "cell_type": "code",
   "execution_count": 4,
   "id": "ef1759bc-4a04-4d4c-ac5b-de66849799af",
   "metadata": {},
   "outputs": [
    {
     "data": {
      "application/javascript": [
       "\n",
       "            setTimeout(function() {\n",
       "                var nbb_cell_id = 4;\n",
       "                var nbb_unformatted_code = \"import json \\nimport csv\\nimport pandas as pd\";\n",
       "                var nbb_formatted_code = \"import json\\nimport csv\\nimport pandas as pd\";\n",
       "                var nbb_cells = Jupyter.notebook.get_cells();\n",
       "                for (var i = 0; i < nbb_cells.length; ++i) {\n",
       "                    if (nbb_cells[i].input_prompt_number == nbb_cell_id) {\n",
       "                        if (nbb_cells[i].get_text() == nbb_unformatted_code) {\n",
       "                             nbb_cells[i].set_text(nbb_formatted_code);\n",
       "                        }\n",
       "                        break;\n",
       "                    }\n",
       "                }\n",
       "            }, 500);\n",
       "            "
      ],
      "text/plain": [
       "<IPython.core.display.Javascript object>"
      ]
     },
     "metadata": {},
     "output_type": "display_data"
    }
   ],
   "source": [
    "import json \n",
    "import csv\n",
    "import pandas as pd"
   ]
  },
  {
   "cell_type": "code",
   "execution_count": 5,
   "id": "1429d6b2-fa26-46ee-b771-a295cfc84b7c",
   "metadata": {},
   "outputs": [
    {
     "data": {
      "application/javascript": [
       "\n",
       "            setTimeout(function() {\n",
       "                var nbb_cell_id = 5;\n",
       "                var nbb_unformatted_code = \"from models import NearEarthObject, CloseApproach\\nfrom database import NEODatabase\\nfrom helpers import transform_obs_to_df\\nfrom filters import create_filters\\nimport datetime\\nfrom filters import DateFilter\\nimport operator\";\n",
       "                var nbb_formatted_code = \"from models import NearEarthObject, CloseApproach\\nfrom database import NEODatabase\\nfrom helpers import transform_obs_to_df\\nfrom filters import create_filters\\nimport datetime\\nfrom filters import DateFilter\\nimport operator\";\n",
       "                var nbb_cells = Jupyter.notebook.get_cells();\n",
       "                for (var i = 0; i < nbb_cells.length; ++i) {\n",
       "                    if (nbb_cells[i].input_prompt_number == nbb_cell_id) {\n",
       "                        if (nbb_cells[i].get_text() == nbb_unformatted_code) {\n",
       "                             nbb_cells[i].set_text(nbb_formatted_code);\n",
       "                        }\n",
       "                        break;\n",
       "                    }\n",
       "                }\n",
       "            }, 500);\n",
       "            "
      ],
      "text/plain": [
       "<IPython.core.display.Javascript object>"
      ]
     },
     "metadata": {},
     "output_type": "display_data"
    }
   ],
   "source": [
    "from models import NearEarthObject, CloseApproach\n",
    "from database import NEODatabase\n",
    "from helpers import transform_obs_to_df\n",
    "from filters import create_filters\n",
    "import datetime\n",
    "from filters import DateFilter\n",
    "import operator"
   ]
  },
  {
   "cell_type": "code",
   "execution_count": null,
   "id": "e9ca794e-db5c-4f4b-a979-ca0bc6ade3be",
   "metadata": {},
   "outputs": [],
   "source": [
    "neos=extract.load_neos()"
   ]
  },
  {
   "cell_type": "code",
   "execution_count": 9,
   "id": "3c4e6167-1bda-4e44-a6ee-d2dedb8d1107",
   "metadata": {},
   "outputs": [
    {
     "data": {
      "application/javascript": [
       "\n",
       "            setTimeout(function() {\n",
       "                var nbb_cell_id = 9;\n",
       "                var nbb_unformatted_code = \"approaches=extract.load_approaches()\";\n",
       "                var nbb_formatted_code = \"approaches = extract.load_approaches()\";\n",
       "                var nbb_cells = Jupyter.notebook.get_cells();\n",
       "                for (var i = 0; i < nbb_cells.length; ++i) {\n",
       "                    if (nbb_cells[i].input_prompt_number == nbb_cell_id) {\n",
       "                        if (nbb_cells[i].get_text() == nbb_unformatted_code) {\n",
       "                             nbb_cells[i].set_text(nbb_formatted_code);\n",
       "                        }\n",
       "                        break;\n",
       "                    }\n",
       "                }\n",
       "            }, 500);\n",
       "            "
      ],
      "text/plain": [
       "<IPython.core.display.Javascript object>"
      ]
     },
     "metadata": {},
     "output_type": "display_data"
    }
   ],
   "source": [
    "approaches=extract.load_approaches()"
   ]
  },
  {
   "cell_type": "code",
   "execution_count": null,
   "id": "edc126b3-9eae-4839-9bf7-0fe9c5856984",
   "metadata": {},
   "outputs": [],
   "source": [
    "self = NEODatabase(neos,approaches)"
   ]
  },
  {
   "cell_type": "code",
   "execution_count": null,
   "id": "c764b5c2-c2c6-4bff-9366-696daf83ddca",
   "metadata": {},
   "outputs": [],
   "source": []
  },
  {
   "cell_type": "code",
   "execution_count": null,
   "id": "ab082881-fdb8-4da7-ad8d-de24c9473533",
   "metadata": {},
   "outputs": [],
   "source": [
    "self.get_neo_by_designation('2013 TL117')"
   ]
  },
  {
   "cell_type": "code",
   "execution_count": null,
   "id": "295a63ef-0465-40df-a983-f80019d06223",
   "metadata": {},
   "outputs": [],
   "source": [
    "self.get_neo_by_name('Lemmon')"
   ]
  },
  {
   "cell_type": "code",
   "execution_count": 6,
   "id": "55750589-65db-4c7a-a9e6-d5301e9bf1c3",
   "metadata": {},
   "outputs": [
    {
     "data": {
      "application/javascript": [
       "\n",
       "            setTimeout(function() {\n",
       "                var nbb_cell_id = 6;\n",
       "                var nbb_unformatted_code = \"filters = create_filters(date=datetime.date(1900,1,1))\";\n",
       "                var nbb_formatted_code = \"filters = create_filters(date=datetime.date(1900, 1, 1))\";\n",
       "                var nbb_cells = Jupyter.notebook.get_cells();\n",
       "                for (var i = 0; i < nbb_cells.length; ++i) {\n",
       "                    if (nbb_cells[i].input_prompt_number == nbb_cell_id) {\n",
       "                        if (nbb_cells[i].get_text() == nbb_unformatted_code) {\n",
       "                             nbb_cells[i].set_text(nbb_formatted_code);\n",
       "                        }\n",
       "                        break;\n",
       "                    }\n",
       "                }\n",
       "            }, 500);\n",
       "            "
      ],
      "text/plain": [
       "<IPython.core.display.Javascript object>"
      ]
     },
     "metadata": {},
     "output_type": "display_data"
    }
   ],
   "source": [
    "filters = create_filters(date=datetime.date(1900,1,1))"
   ]
  },
  {
   "cell_type": "code",
   "execution_count": 7,
   "id": "fb412437-b819-4009-ac5c-421b48302174",
   "metadata": {},
   "outputs": [
    {
     "data": {
      "text/plain": [
       "[DateFilter(op=operator.eq, value=1900-01-01)]"
      ]
     },
     "execution_count": 7,
     "metadata": {},
     "output_type": "execute_result"
    },
    {
     "data": {
      "application/javascript": [
       "\n",
       "            setTimeout(function() {\n",
       "                var nbb_cell_id = 7;\n",
       "                var nbb_unformatted_code = \"filters\";\n",
       "                var nbb_formatted_code = \"filters\";\n",
       "                var nbb_cells = Jupyter.notebook.get_cells();\n",
       "                for (var i = 0; i < nbb_cells.length; ++i) {\n",
       "                    if (nbb_cells[i].input_prompt_number == nbb_cell_id) {\n",
       "                        if (nbb_cells[i].get_text() == nbb_unformatted_code) {\n",
       "                             nbb_cells[i].set_text(nbb_formatted_code);\n",
       "                        }\n",
       "                        break;\n",
       "                    }\n",
       "                }\n",
       "            }, 500);\n",
       "            "
      ],
      "text/plain": [
       "<IPython.core.display.Javascript object>"
      ]
     },
     "metadata": {},
     "output_type": "display_data"
    }
   ],
   "source": [
    "filters"
   ]
  },
  {
   "cell_type": "code",
   "execution_count": 10,
   "id": "d4713556-d1c2-4657-8077-b603d5ef09c2",
   "metadata": {},
   "outputs": [
    {
     "data": {
      "text/plain": [
       "[True]"
      ]
     },
     "execution_count": 10,
     "metadata": {},
     "output_type": "execute_result"
    },
    {
     "data": {
      "application/javascript": [
       "\n",
       "            setTimeout(function() {\n",
       "                var nbb_cell_id = 10;\n",
       "                var nbb_unformatted_code = \"[filter(approaches[1]) for filter in filters]\";\n",
       "                var nbb_formatted_code = \"[filter(approaches[1]) for filter in filters]\";\n",
       "                var nbb_cells = Jupyter.notebook.get_cells();\n",
       "                for (var i = 0; i < nbb_cells.length; ++i) {\n",
       "                    if (nbb_cells[i].input_prompt_number == nbb_cell_id) {\n",
       "                        if (nbb_cells[i].get_text() == nbb_unformatted_code) {\n",
       "                             nbb_cells[i].set_text(nbb_formatted_code);\n",
       "                        }\n",
       "                        break;\n",
       "                    }\n",
       "                }\n",
       "            }, 500);\n",
       "            "
      ],
      "text/plain": [
       "<IPython.core.display.Javascript object>"
      ]
     },
     "metadata": {},
     "output_type": "display_data"
    }
   ],
   "source": [
    "[filter(approaches[1]) for filter in filters]"
   ]
  },
  {
   "cell_type": "code",
   "execution_count": null,
   "id": "7432eb96-0625-4f43-805f-a8d1d534153e",
   "metadata": {},
   "outputs": [],
   "source": []
  }
 ],
 "metadata": {
  "kernelspec": {
   "display_name": "Python 3 (ipykernel)",
   "language": "python",
   "name": "python3"
  },
  "language_info": {
   "codemirror_mode": {
    "name": "ipython",
    "version": 3
   },
   "file_extension": ".py",
   "mimetype": "text/x-python",
   "name": "python",
   "nbconvert_exporter": "python",
   "pygments_lexer": "ipython3",
   "version": "3.7.10"
  },
  "toc-showcode": false
 },
 "nbformat": 4,
 "nbformat_minor": 5
}
